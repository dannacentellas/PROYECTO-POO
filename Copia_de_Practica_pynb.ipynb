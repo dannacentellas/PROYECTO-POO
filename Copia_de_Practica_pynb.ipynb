{
  "nbformat": 4,
  "nbformat_minor": 0,
  "metadata": {
    "colab": {
      "name": "Copia de Practica.pynb",
      "provenance": [],
      "include_colab_link": true
    },
    "kernelspec": {
      "name": "python3",
      "display_name": "Python 3"
    }
  },
  "cells": [
    {
      "cell_type": "markdown",
      "metadata": {
        "id": "view-in-github",
        "colab_type": "text"
      },
      "source": [
        "<a href=\"https://colab.research.google.com/github/dannacentellas/PROYECTO-POO/blob/master/Copia_de_Practica_pynb.ipynb\" target=\"_parent\"><img src=\"https://colab.research.google.com/assets/colab-badge.svg\" alt=\"Open In Colab\"/></a>"
      ]
    },
    {
      "cell_type": "markdown",
      "metadata": {
        "id": "eXr5CUOkws6E",
        "colab_type": "text"
      },
      "source": [
        "*** DEBES REALIZAR UNA COPIA DE ESTE NOTEBOOK, PARA ESO DEBES ENTRAR A: Archivo/Guardar una copia en Drive****"
      ]
    },
    {
      "cell_type": "markdown",
      "metadata": {
        "id": "QRtQqOdIuFFP",
        "colab_type": "text"
      },
      "source": [
        "<b>Tarea: Realizar una implementación de Regresión Lineal (Simple Linear Regression)en el dataset Cerveja.csv</b>\n",
        "\n",
        "Puntos a realizar:\n",
        "- Seleccionar como feature (X) la columna: Temperatura Media (C)\n",
        "- Seleccionar como target (y) la columna: Consumo de cerveja (litros)\n",
        "- Implementar Regresión Lineal con ScikitLearn\n",
        "- Obtener el R2 score\n",
        "- Graficar la recta sobre los puntos para visualizar el resultado\n",
        "- En la ultima celda, escribir si es rentable o no hacer uso de Regresión Lineal \n",
        "en el dataset, basándonos en el resultado de R2 score y otros puntos que vea conveniente.\n",
        "- Todas las celdas deben estar previamente comentadas, ya sea usando los \n",
        "comentarios propios de python como ser: # (para una linea) ó ''' ''' (para multilineas). \n",
        "Estos comentarios deben explicar el proceso a realizarse en al celda. Tambien\n",
        "puede usar las celdas de Texto que vienen incluidas en Colab (Ej: esta celda donde\n",
        "esta todo este texto)\n",
        "\n",
        "Recomendaciones:\n",
        "- Recordar que los valores float usan puntos (Ej: 3.1416) y no comas (3,1416) pues será considerado como un String .\n",
        "- Revisar la vectorización de la regresión lineal que se realizó en la clase 4.\n",
        "\n",
        "<b>La fecha de entrega de la práctica es el domingo 05 de Julio a las 22:00 .</b>\n"
      ]
    },
    {
      "cell_type": "markdown",
      "metadata": {
        "id": "HyOCGdzBuwqT",
        "colab_type": "text"
      },
      "source": [
        "# Dataset Consumo de Cerveza\n",
        "El estudio es simple, queremos saber cuanta cerveza puede tomar una persona en base a la temperatura, si es un día caluroso quizá prefieras tomar más de una lata de cerveza. El dataset contiene datos de temperaturas en determinados días, como por ejemplo un domingo 27 de junio hizo una temperatura máxima de 27 grados, una temperatura media de 22 y una mínima de 17. Para no hacernos lio en esto, vamos a enfocarnos solo en la temperatura media. Después tenemos datos de Precipitación, Final de Semana y Consumo de Cerveja, siendo la ultima la que nos importa pues queremos predecir dicho consumo."
      ]
    },
    {
      "cell_type": "markdown",
      "metadata": {
        "id": "9efWtJO3rDEp",
        "colab_type": "text"
      },
      "source": [
        "Todo lo que necesitan ya está importado acá, si creen necesitar importar algo\n",
        "pueden hacerlo sin ningun problema"
      ]
    },
    {
      "cell_type": "code",
      "metadata": {
        "id": "XoAF8FzsquN8",
        "colab_type": "code",
        "colab": {}
      },
      "source": [
        "import pandas as pd\n",
        "import numpy as np\n",
        "from sklearn.model_selection import train_test_split\n",
        "from sklearn.metrics import r2_score\n",
        "from sklearn.linear_model import LinearRegression\n",
        "import matplotlib.pyplot as plt\n"
      ],
      "execution_count": null,
      "outputs": []
    },
    {
      "cell_type": "markdown",
      "metadata": {
        "id": "jOjtV1X9rMAe",
        "colab_type": "text"
      },
      "source": [
        "Este es el dataset que usaremos, el mismo como se puede observar ya fue importado en la variable dataset"
      ]
    },
    {
      "cell_type": "code",
      "metadata": {
        "id": "niJyttEPrFN9",
        "colab_type": "code",
        "colab": {}
      },
      "source": [
        "dataset = pd.read_csv(\"https://raw.githubusercontent.com/pydatalapaz/IntroductionML/master/cerveja.csv\")"
      ],
      "execution_count": null,
      "outputs": []
    },
    {
      "cell_type": "code",
      "metadata": {
        "id": "kSa63LSurUt7",
        "colab_type": "code",
        "colab": {
          "base_uri": "https://localhost:8080/",
          "height": 204
        },
        "outputId": "596d72e9-f4e7-4f88-8e11-e134011b2888"
      },
      "source": [
        "dataset.head()"
      ],
      "execution_count": null,
      "outputs": [
        {
          "output_type": "execute_result",
          "data": {
            "text/html": [
              "<div>\n",
              "<style scoped>\n",
              "    .dataframe tbody tr th:only-of-type {\n",
              "        vertical-align: middle;\n",
              "    }\n",
              "\n",
              "    .dataframe tbody tr th {\n",
              "        vertical-align: top;\n",
              "    }\n",
              "\n",
              "    .dataframe thead th {\n",
              "        text-align: right;\n",
              "    }\n",
              "</style>\n",
              "<table border=\"1\" class=\"dataframe\">\n",
              "  <thead>\n",
              "    <tr style=\"text-align: right;\">\n",
              "      <th></th>\n",
              "      <th>Unnamed: 0</th>\n",
              "      <th>Data</th>\n",
              "      <th>Temperatura Media (C)</th>\n",
              "      <th>Temperatura Minima (C)</th>\n",
              "      <th>Temperatura Maxima (C)</th>\n",
              "      <th>Precipitacao (mm)</th>\n",
              "      <th>Final de Semana</th>\n",
              "      <th>Consumo de cerveja (litros)</th>\n",
              "    </tr>\n",
              "  </thead>\n",
              "  <tbody>\n",
              "    <tr>\n",
              "      <th>0</th>\n",
              "      <td>0</td>\n",
              "      <td>2015-01-01</td>\n",
              "      <td>27,3</td>\n",
              "      <td>23,9</td>\n",
              "      <td>32,5</td>\n",
              "      <td>0</td>\n",
              "      <td>0.0</td>\n",
              "      <td>25.461</td>\n",
              "    </tr>\n",
              "    <tr>\n",
              "      <th>1</th>\n",
              "      <td>1</td>\n",
              "      <td>2015-01-02</td>\n",
              "      <td>27,02</td>\n",
              "      <td>24,5</td>\n",
              "      <td>33,5</td>\n",
              "      <td>0</td>\n",
              "      <td>0.0</td>\n",
              "      <td>28.972</td>\n",
              "    </tr>\n",
              "    <tr>\n",
              "      <th>2</th>\n",
              "      <td>2</td>\n",
              "      <td>2015-01-03</td>\n",
              "      <td>24,82</td>\n",
              "      <td>22,4</td>\n",
              "      <td>29,9</td>\n",
              "      <td>0</td>\n",
              "      <td>1.0</td>\n",
              "      <td>30.814</td>\n",
              "    </tr>\n",
              "    <tr>\n",
              "      <th>3</th>\n",
              "      <td>3</td>\n",
              "      <td>2015-01-04</td>\n",
              "      <td>23,98</td>\n",
              "      <td>21,5</td>\n",
              "      <td>28,6</td>\n",
              "      <td>1,2</td>\n",
              "      <td>1.0</td>\n",
              "      <td>29.799</td>\n",
              "    </tr>\n",
              "    <tr>\n",
              "      <th>4</th>\n",
              "      <td>4</td>\n",
              "      <td>2015-01-05</td>\n",
              "      <td>23,82</td>\n",
              "      <td>21</td>\n",
              "      <td>28,3</td>\n",
              "      <td>0</td>\n",
              "      <td>0.0</td>\n",
              "      <td>28.900</td>\n",
              "    </tr>\n",
              "  </tbody>\n",
              "</table>\n",
              "</div>"
            ],
            "text/plain": [
              "   Unnamed: 0        Data  ... Final de Semana Consumo de cerveja (litros)\n",
              "0           0  2015-01-01  ...             0.0                      25.461\n",
              "1           1  2015-01-02  ...             0.0                      28.972\n",
              "2           2  2015-01-03  ...             1.0                      30.814\n",
              "3           3  2015-01-04  ...             1.0                      29.799\n",
              "4           4  2015-01-05  ...             0.0                      28.900\n",
              "\n",
              "[5 rows x 8 columns]"
            ]
          },
          "metadata": {
            "tags": []
          },
          "execution_count": 4
        }
      ]
    },
    {
      "cell_type": "code",
      "metadata": {
        "id": "l1nF9uAkS4CU",
        "colab_type": "code",
        "colab": {
          "base_uri": "https://localhost:8080/",
          "height": 204
        },
        "outputId": "c1c04b9b-e21b-433c-b8b6-c7bad2790fcf"
      },
      "source": [
        "dataset.head()"
      ],
      "execution_count": null,
      "outputs": [
        {
          "output_type": "execute_result",
          "data": {
            "text/html": [
              "<div>\n",
              "<style scoped>\n",
              "    .dataframe tbody tr th:only-of-type {\n",
              "        vertical-align: middle;\n",
              "    }\n",
              "\n",
              "    .dataframe tbody tr th {\n",
              "        vertical-align: top;\n",
              "    }\n",
              "\n",
              "    .dataframe thead th {\n",
              "        text-align: right;\n",
              "    }\n",
              "</style>\n",
              "<table border=\"1\" class=\"dataframe\">\n",
              "  <thead>\n",
              "    <tr style=\"text-align: right;\">\n",
              "      <th></th>\n",
              "      <th>Unnamed: 0</th>\n",
              "      <th>Data</th>\n",
              "      <th>Temperatura Media (C)</th>\n",
              "      <th>Temperatura Minima (C)</th>\n",
              "      <th>Temperatura Maxima (C)</th>\n",
              "      <th>Precipitacao (mm)</th>\n",
              "      <th>Final de Semana</th>\n",
              "      <th>Consumo de cerveja (litros)</th>\n",
              "    </tr>\n",
              "  </thead>\n",
              "  <tbody>\n",
              "    <tr>\n",
              "      <th>0</th>\n",
              "      <td>0</td>\n",
              "      <td>2015-01-01</td>\n",
              "      <td>27,3</td>\n",
              "      <td>23,9</td>\n",
              "      <td>32,5</td>\n",
              "      <td>0</td>\n",
              "      <td>0.0</td>\n",
              "      <td>25.461</td>\n",
              "    </tr>\n",
              "    <tr>\n",
              "      <th>1</th>\n",
              "      <td>1</td>\n",
              "      <td>2015-01-02</td>\n",
              "      <td>27,02</td>\n",
              "      <td>24,5</td>\n",
              "      <td>33,5</td>\n",
              "      <td>0</td>\n",
              "      <td>0.0</td>\n",
              "      <td>28.972</td>\n",
              "    </tr>\n",
              "    <tr>\n",
              "      <th>2</th>\n",
              "      <td>2</td>\n",
              "      <td>2015-01-03</td>\n",
              "      <td>24,82</td>\n",
              "      <td>22,4</td>\n",
              "      <td>29,9</td>\n",
              "      <td>0</td>\n",
              "      <td>1.0</td>\n",
              "      <td>30.814</td>\n",
              "    </tr>\n",
              "    <tr>\n",
              "      <th>3</th>\n",
              "      <td>3</td>\n",
              "      <td>2015-01-04</td>\n",
              "      <td>23,98</td>\n",
              "      <td>21,5</td>\n",
              "      <td>28,6</td>\n",
              "      <td>1,2</td>\n",
              "      <td>1.0</td>\n",
              "      <td>29.799</td>\n",
              "    </tr>\n",
              "    <tr>\n",
              "      <th>4</th>\n",
              "      <td>4</td>\n",
              "      <td>2015-01-05</td>\n",
              "      <td>23,82</td>\n",
              "      <td>21</td>\n",
              "      <td>28,3</td>\n",
              "      <td>0</td>\n",
              "      <td>0.0</td>\n",
              "      <td>28.900</td>\n",
              "    </tr>\n",
              "  </tbody>\n",
              "</table>\n",
              "</div>"
            ],
            "text/plain": [
              "   Unnamed: 0        Data  ... Final de Semana Consumo de cerveja (litros)\n",
              "0           0  2015-01-01  ...             0.0                      25.461\n",
              "1           1  2015-01-02  ...             0.0                      28.972\n",
              "2           2  2015-01-03  ...             1.0                      30.814\n",
              "3           3  2015-01-04  ...             1.0                      29.799\n",
              "4           4  2015-01-05  ...             0.0                      28.900\n",
              "\n",
              "[5 rows x 8 columns]"
            ]
          },
          "metadata": {
            "tags": []
          },
          "execution_count": 8
        }
      ]
    },
    {
      "cell_type": "code",
      "metadata": {
        "id": "c8NULoaMIYij",
        "colab_type": "code",
        "colab": {
          "base_uri": "https://localhost:8080/",
          "height": 34
        },
        "outputId": "d82a6ab0-f9f5-4ace-9432-2870c1149009"
      },
      "source": [
        "dataset.shape"
      ],
      "execution_count": null,
      "outputs": [
        {
          "output_type": "execute_result",
          "data": {
            "text/plain": [
              "(365, 8)"
            ]
          },
          "metadata": {
            "tags": []
          },
          "execution_count": 6
        }
      ]
    },
    {
      "cell_type": "code",
      "metadata": {
        "id": "QZBsQ_N6VfXD",
        "colab_type": "code",
        "colab": {
          "base_uri": "https://localhost:8080/",
          "height": 34
        },
        "outputId": "febed75f-a0e0-4b54-f639-168642f800b7"
      },
      "source": [
        "import pandas as pd\n",
        "import numpy as np\n",
        "from sklearn.model_selection import train_test_split\n",
        "from sklearn.metrics import r2_score\n",
        "from sklearn.linear_model import LinearRegression\n",
        "import matplotlib.pyplot as plt\n",
        "\n",
        "dataset = pd.read_csv(\"https://raw.githubusercontent.com/pydatalapaz/IntroductionML/master/cerveja.csv\")\n",
        "dataset.shape"
      ],
      "execution_count": null,
      "outputs": [
        {
          "output_type": "execute_result",
          "data": {
            "text/plain": [
              "(365, 8)"
            ]
          },
          "metadata": {
            "tags": []
          },
          "execution_count": 42
        }
      ]
    },
    {
      "cell_type": "code",
      "metadata": {
        "id": "MiSuNYj3tv1i",
        "colab_type": "code",
        "colab": {}
      },
      "source": [
        "def to_float_from_str_decimal(string):\n",
        "    \"\"\" It convert '12.540,5' to 125040.50 \"\"\"\n",
        "    try:\n",
        "        return float(string.replace(',', '.'))\n",
        "    except:\n",
        "        return string"
      ],
      "execution_count": null,
      "outputs": []
    },
    {
      "cell_type": "code",
      "metadata": {
        "id": "wlWIiHod2sGh",
        "colab_type": "code",
        "colab": {
          "base_uri": "https://localhost:8080/",
          "height": 119
        },
        "outputId": "22be44de-fef8-47de-c7f2-cd27b64f7a5e"
      },
      "source": [
        "dataset['Temperatura Media (C)'] =dataset['Temperatura Media (C)'].apply(to_float_from_str_decimal)\n",
        "dataset['Temperatura Media (C)'].head()"
      ],
      "execution_count": null,
      "outputs": [
        {
          "output_type": "execute_result",
          "data": {
            "text/plain": [
              "0    27.30\n",
              "1    27.02\n",
              "2    24.82\n",
              "3    23.98\n",
              "4    23.82\n",
              "Name: Temperatura Media (C), dtype: float64"
            ]
          },
          "metadata": {
            "tags": []
          },
          "execution_count": 77
        }
      ]
    },
    {
      "cell_type": "markdown",
      "metadata": {
        "id": "KUH8YrEvYpJC",
        "colab_type": "text"
      },
      "source": [
        "cuantos nulos hay en la columna temp media,y columna de consumo de cerveza\n"
      ]
    },
    {
      "cell_type": "code",
      "metadata": {
        "id": "wpI7T9aWuBGC",
        "colab_type": "code",
        "colab": {
          "base_uri": "https://localhost:8080/",
          "height": 34
        },
        "outputId": "5648ad17-1d01-475a-d0eb-bd553226bd97"
      },
      "source": [
        "dataset[\"Temperatura Media (C)\"].isnull().sum()"
      ],
      "execution_count": null,
      "outputs": [
        {
          "output_type": "execute_result",
          "data": {
            "text/plain": [
              "0"
            ]
          },
          "metadata": {
            "tags": []
          },
          "execution_count": 62
        }
      ]
    },
    {
      "cell_type": "code",
      "metadata": {
        "id": "CV5rN0U2ZIA5",
        "colab_type": "code",
        "colab": {
          "base_uri": "https://localhost:8080/",
          "height": 34
        },
        "outputId": "22436bfd-dd29-440f-c75f-991cac9936bf"
      },
      "source": [
        "dataset[\"Consumo de cerveja (litros)\"].isnull().sum()"
      ],
      "execution_count": null,
      "outputs": [
        {
          "output_type": "execute_result",
          "data": {
            "text/plain": [
              "0"
            ]
          },
          "metadata": {
            "tags": []
          },
          "execution_count": 63
        }
      ]
    },
    {
      "cell_type": "code",
      "metadata": {
        "id": "RjJRdGreM_qG",
        "colab_type": "code",
        "colab": {}
      },
      "source": [
        "dataset = dataset.drop([\"Temperatura Minima (C)\",\"Temperatura Maxima (C)\",\"Precipitacao (mm)\",\"\tFinal de Semana\",\"Data\"],axis=1)"
      ],
      "execution_count": null,
      "outputs": []
    },
    {
      "cell_type": "code",
      "metadata": {
        "id": "ftE3UyvhTFZi",
        "colab_type": "code",
        "colab": {
          "base_uri": "https://localhost:8080/",
          "height": 204
        },
        "outputId": "9de23a4f-1865-4c00-cbaf-a38bf464f2a6"
      },
      "source": [
        "dataset = dataset.drop([\"Final de Semana\",\"Data\"],axis=1)\n",
        "dataset.head()"
      ],
      "execution_count": null,
      "outputs": [
        {
          "output_type": "execute_result",
          "data": {
            "text/html": [
              "<div>\n",
              "<style scoped>\n",
              "    .dataframe tbody tr th:only-of-type {\n",
              "        vertical-align: middle;\n",
              "    }\n",
              "\n",
              "    .dataframe tbody tr th {\n",
              "        vertical-align: top;\n",
              "    }\n",
              "\n",
              "    .dataframe thead th {\n",
              "        text-align: right;\n",
              "    }\n",
              "</style>\n",
              "<table border=\"1\" class=\"dataframe\">\n",
              "  <thead>\n",
              "    <tr style=\"text-align: right;\">\n",
              "      <th></th>\n",
              "      <th>Unnamed: 0</th>\n",
              "      <th>Temperatura Media (C)</th>\n",
              "      <th>Consumo de cerveja (litros)</th>\n",
              "    </tr>\n",
              "  </thead>\n",
              "  <tbody>\n",
              "    <tr>\n",
              "      <th>0</th>\n",
              "      <td>0</td>\n",
              "      <td>27.30</td>\n",
              "      <td>25.461</td>\n",
              "    </tr>\n",
              "    <tr>\n",
              "      <th>1</th>\n",
              "      <td>1</td>\n",
              "      <td>27.02</td>\n",
              "      <td>28.972</td>\n",
              "    </tr>\n",
              "    <tr>\n",
              "      <th>2</th>\n",
              "      <td>2</td>\n",
              "      <td>24.82</td>\n",
              "      <td>30.814</td>\n",
              "    </tr>\n",
              "    <tr>\n",
              "      <th>3</th>\n",
              "      <td>3</td>\n",
              "      <td>23.98</td>\n",
              "      <td>29.799</td>\n",
              "    </tr>\n",
              "    <tr>\n",
              "      <th>4</th>\n",
              "      <td>4</td>\n",
              "      <td>23.82</td>\n",
              "      <td>28.900</td>\n",
              "    </tr>\n",
              "  </tbody>\n",
              "</table>\n",
              "</div>"
            ],
            "text/plain": [
              "   Unnamed: 0  Temperatura Media (C)  Consumo de cerveja (litros)\n",
              "0           0                  27.30                       25.461\n",
              "1           1                  27.02                       28.972\n",
              "2           2                  24.82                       30.814\n",
              "3           3                  23.98                       29.799\n",
              "4           4                  23.82                       28.900"
            ]
          },
          "metadata": {
            "tags": []
          },
          "execution_count": 102
        }
      ]
    },
    {
      "cell_type": "code",
      "metadata": {
        "id": "HkU8TEu9VQg4",
        "colab_type": "code",
        "colab": {}
      },
      "source": [
        "x = np.array(dataset[\"Temperatura Media (C)\"])\n",
        "y = np.array(dataset[\"Consumo de cerveja (litros)\"])\n",
        "X_train, X_test,y_train,y_test = train_test_split(x,y,test_size=0.2)"
      ],
      "execution_count": null,
      "outputs": []
    },
    {
      "cell_type": "code",
      "metadata": {
        "id": "I2xXWY_7DGvM",
        "colab_type": "code",
        "colab": {}
      },
      "source": [
        "x = np.array(dataset.drop([\"Consumo de cerveja (litros)\"],1)) \n",
        "x"
      ],
      "execution_count": null,
      "outputs": []
    },
    {
      "cell_type": "code",
      "metadata": {
        "id": "Ph5eAAt9mTYS",
        "colab_type": "code",
        "colab": {
          "base_uri": "https://localhost:8080/",
          "height": 802
        },
        "outputId": "b5aff7a6-3ecd-4e08-ec84-e8ea2049fba3"
      },
      "source": [
        "from sklearn.linear_model import LinearRegression\n",
        "regression_model = LinearRegression()\n",
        "regression_model.fit(X_train,y_train)"
      ],
      "execution_count": null,
      "outputs": [
        {
          "output_type": "error",
          "ename": "ValueError",
          "evalue": "ignored",
          "traceback": [
            "\u001b[0;31m---------------------------------------------------------------------------\u001b[0m",
            "\u001b[0;31mValueError\u001b[0m                                Traceback (most recent call last)",
            "\u001b[0;32m<ipython-input-107-e892c1d7bc25>\u001b[0m in \u001b[0;36m<module>\u001b[0;34m()\u001b[0m\n\u001b[1;32m      1\u001b[0m \u001b[0;32mfrom\u001b[0m \u001b[0msklearn\u001b[0m\u001b[0;34m.\u001b[0m\u001b[0mlinear_model\u001b[0m \u001b[0;32mimport\u001b[0m \u001b[0mLinearRegression\u001b[0m\u001b[0;34m\u001b[0m\u001b[0;34m\u001b[0m\u001b[0m\n\u001b[1;32m      2\u001b[0m \u001b[0mregression_model\u001b[0m \u001b[0;34m=\u001b[0m \u001b[0mLinearRegression\u001b[0m\u001b[0;34m(\u001b[0m\u001b[0;34m)\u001b[0m\u001b[0;34m\u001b[0m\u001b[0;34m\u001b[0m\u001b[0m\n\u001b[0;32m----> 3\u001b[0;31m \u001b[0mregression_model\u001b[0m\u001b[0;34m.\u001b[0m\u001b[0mfit\u001b[0m\u001b[0;34m(\u001b[0m\u001b[0mX_train\u001b[0m\u001b[0;34m,\u001b[0m\u001b[0my_train\u001b[0m\u001b[0;34m)\u001b[0m\u001b[0;34m\u001b[0m\u001b[0;34m\u001b[0m\u001b[0m\n\u001b[0m",
            "\u001b[0;32m/usr/local/lib/python3.6/dist-packages/sklearn/linear_model/_base.py\u001b[0m in \u001b[0;36mfit\u001b[0;34m(self, X, y, sample_weight)\u001b[0m\n\u001b[1;32m    490\u001b[0m         \u001b[0mn_jobs_\u001b[0m \u001b[0;34m=\u001b[0m \u001b[0mself\u001b[0m\u001b[0;34m.\u001b[0m\u001b[0mn_jobs\u001b[0m\u001b[0;34m\u001b[0m\u001b[0;34m\u001b[0m\u001b[0m\n\u001b[1;32m    491\u001b[0m         X, y = check_X_y(X, y, accept_sparse=['csr', 'csc', 'coo'],\n\u001b[0;32m--> 492\u001b[0;31m                          y_numeric=True, multi_output=True)\n\u001b[0m\u001b[1;32m    493\u001b[0m \u001b[0;34m\u001b[0m\u001b[0m\n\u001b[1;32m    494\u001b[0m         \u001b[0;32mif\u001b[0m \u001b[0msample_weight\u001b[0m \u001b[0;32mis\u001b[0m \u001b[0;32mnot\u001b[0m \u001b[0;32mNone\u001b[0m\u001b[0;34m:\u001b[0m\u001b[0;34m\u001b[0m\u001b[0;34m\u001b[0m\u001b[0m\n",
            "\u001b[0;32m/usr/local/lib/python3.6/dist-packages/sklearn/utils/validation.py\u001b[0m in \u001b[0;36mcheck_X_y\u001b[0;34m(X, y, accept_sparse, accept_large_sparse, dtype, order, copy, force_all_finite, ensure_2d, allow_nd, multi_output, ensure_min_samples, ensure_min_features, y_numeric, warn_on_dtype, estimator)\u001b[0m\n\u001b[1;32m    753\u001b[0m                     \u001b[0mensure_min_features\u001b[0m\u001b[0;34m=\u001b[0m\u001b[0mensure_min_features\u001b[0m\u001b[0;34m,\u001b[0m\u001b[0;34m\u001b[0m\u001b[0;34m\u001b[0m\u001b[0m\n\u001b[1;32m    754\u001b[0m                     \u001b[0mwarn_on_dtype\u001b[0m\u001b[0;34m=\u001b[0m\u001b[0mwarn_on_dtype\u001b[0m\u001b[0;34m,\u001b[0m\u001b[0;34m\u001b[0m\u001b[0;34m\u001b[0m\u001b[0m\n\u001b[0;32m--> 755\u001b[0;31m                     estimator=estimator)\n\u001b[0m\u001b[1;32m    756\u001b[0m     \u001b[0;32mif\u001b[0m \u001b[0mmulti_output\u001b[0m\u001b[0;34m:\u001b[0m\u001b[0;34m\u001b[0m\u001b[0;34m\u001b[0m\u001b[0m\n\u001b[1;32m    757\u001b[0m         y = check_array(y, 'csr', force_all_finite=True, ensure_2d=False,\n",
            "\u001b[0;32m/usr/local/lib/python3.6/dist-packages/sklearn/utils/validation.py\u001b[0m in \u001b[0;36mcheck_array\u001b[0;34m(array, accept_sparse, accept_large_sparse, dtype, order, copy, force_all_finite, ensure_2d, allow_nd, ensure_min_samples, ensure_min_features, warn_on_dtype, estimator)\u001b[0m\n\u001b[1;32m    554\u001b[0m                     \u001b[0;34m\"Reshape your data either using array.reshape(-1, 1) if \"\u001b[0m\u001b[0;34m\u001b[0m\u001b[0;34m\u001b[0m\u001b[0m\n\u001b[1;32m    555\u001b[0m                     \u001b[0;34m\"your data has a single feature or array.reshape(1, -1) \"\u001b[0m\u001b[0;34m\u001b[0m\u001b[0;34m\u001b[0m\u001b[0m\n\u001b[0;32m--> 556\u001b[0;31m                     \"if it contains a single sample.\".format(array))\n\u001b[0m\u001b[1;32m    557\u001b[0m \u001b[0;34m\u001b[0m\u001b[0m\n\u001b[1;32m    558\u001b[0m         \u001b[0;31m# in the future np.flexible dtypes will be handled like object dtypes\u001b[0m\u001b[0;34m\u001b[0m\u001b[0;34m\u001b[0m\u001b[0;34m\u001b[0m\u001b[0m\n",
            "\u001b[0;31mValueError\u001b[0m: Expected 2D array, got 1D array instead:\narray=[25.96 16.76 23.92 22.22 17.18 19.7  21.74 23.92 21.26 16.84 25.68 16.04\n 23.36 17.86 21.44 24.72 20.5  20.62 20.26 22.78 23.28 24.72 28.26 19.1\n 24.54 22.3  22.4  22.06 23.16 16.72 28.2  21.22 14.   22.52 22.98 17.36\n 24.54 22.24 14.54 20.42 21.04 21.78 20.74 26.14 15.34 20.86 27.68 16.14\n 17.08 24.76 21.28 17.78 17.38 21.7  20.22 23.6  19.04 15.48 28.12 20.18\n 16.76 20.56 23.06 17.68 19.24 24.9  21.8  18.6  22.34 24.   22.2  19.76\n 22.48 16.98 24.82 19.36 22.08 24.32 17.64 23.72 23.32 20.42 26.42 23.14\n 21.86 27.3  22.76 20.24 26.5  20.8  20.28 23.78 19.96 25.2  16.94 18.92\n 23.24 20.86 20.56 21.04 22.76 21.7  21.44 27.46 24.   21.82 22.08 22.1\n 20.86 22.52 22.4  16.2  19.24 24.8  21.38 21.58 17.94 23.92 18.82 26.16\n 23.6  22.5  23.34 22.52 23.16 25.52 17.46 16.8  24.   22.8  21.4  23.18\n 24.   19.4  19.88 22.28 22.88 28.86 20.1  22.16 21.22 22.04 28.06 26.76\n 23.12 25.96 15.26 22.44 24.04 17.2  21.52 23.32 19.46 22.52 19.8  19.44\n 17.32 14.94 17.8  23.06 24.64 21.16 19.98 17.54 18.36 24.62 23.78 15.78\n 26.28 14.66 23.86 23.12 24.42 22.72 24.52 16.2  23.68 19.94 20.46 21.16\n 25.66 16.82 22.88 22.14 18.46 21.26 20.32 26.3  21.36 25.06 22.82 18.92\n 24.72 19.3  21.26 21.94 25.86 17.94 21.24 20.88 22.6  16.98 22.   21.86\n 16.02 21.42 25.38 16.34 16.48 19.86 21.18 22.94 20.98 21.3  19.82 20.12\n 21.2  16.46 14.82 18.56 23.96 25.54 27.26 22.06 25.   24.4  21.04 14.18\n 16.72 23.98 26.56 21.76 21.36 18.54 27.62 22.26 19.92 22.28 26.2  23.7\n 22.76 22.26 19.18 19.26 19.02 16.28 16.84 25.32 21.02 28.3  17.02 23.58\n 22.9  16.46 20.26 21.64 22.12 20.1  16.22 21.06 19.66 20.06 17.12 21.74\n 17.34 17.52 23.3  19.62 18.64 21.56 16.1  24.5  20.88 19.88 18.8  23.12\n 17.02 22.48 22.98 25.4  22.64 22.5  21.92 16.88 22.36 18.66 25.24 16.28\n 22.84 20.04 16.6  20.2 ].\nReshape your data either using array.reshape(-1, 1) if your data has a single feature or array.reshape(1, -1) if it contains a single sample."
          ]
        }
      ]
    }
  ]
}